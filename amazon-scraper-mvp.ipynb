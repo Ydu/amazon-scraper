{
 "cells": [
  {
   "cell_type": "code",
   "execution_count": 1,
   "metadata": {},
   "outputs": [],
   "source": [
    "# required installs:\n",
    "# numpy, pandas, seaborn, selenium, chromedriver-py, requests, beautifulsoup4\n",
    "\n",
    "# all installs can be installed with pip \n",
    "#  pip install [package]\n",
    "\n",
    "# if chromedriver-py doesn't work, dl from here (https://sites.google.com/a/chromium.org/chromedriver/home)\n",
    "\n",
    "import numpy as np\n",
    "import pandas as pd\n",
    "# import seaborn as sns\n",
    "\n",
    "import selenium\n",
    "from selenium import webdriver\n",
    "from selenium.webdriver.common.keys import Keys\n",
    "from chromedriver_py import binary_path # this will get you the path variable\n",
    "\n",
    "import requests\n",
    "from bs4 import BeautifulSoup\n",
    "\n",
    "import time\n",
    "# import lxml\n",
    "# from lxml import etree"
   ]
  },
  {
   "cell_type": "code",
   "execution_count": 28,
   "metadata": {},
   "outputs": [
    {
     "ename": "FeatureNotFound",
     "evalue": "Couldn't find a tree builder with the features you requested: lxml. Do you need to install a parser library?",
     "output_type": "error",
     "traceback": [
      "\u001b[1;31m---------------------------------------------------------------------------\u001b[0m",
      "\u001b[1;31mFeatureNotFound\u001b[0m                           Traceback (most recent call last)",
      "\u001b[1;32m<ipython-input-28-e3556ca618ca>\u001b[0m in \u001b[0;36m<module>\u001b[1;34m\u001b[0m\n\u001b[0;32m      3\u001b[0m \u001b[0mresponse\u001b[0m \u001b[1;33m=\u001b[0m \u001b[0mrequests\u001b[0m\u001b[1;33m.\u001b[0m\u001b[0mget\u001b[0m\u001b[1;33m(\u001b[0m\u001b[0murl\u001b[0m\u001b[1;33m)\u001b[0m\u001b[1;33m\u001b[0m\u001b[0m\n\u001b[0;32m      4\u001b[0m \u001b[0mpage\u001b[0m \u001b[1;33m=\u001b[0m \u001b[0mresponse\u001b[0m\u001b[1;33m.\u001b[0m\u001b[0mtext\u001b[0m\u001b[1;33m\u001b[0m\u001b[0m\n\u001b[1;32m----> 5\u001b[1;33m \u001b[0msoup\u001b[0m \u001b[1;33m=\u001b[0m \u001b[0mBeautifulSoup\u001b[0m\u001b[1;33m(\u001b[0m\u001b[0mpage\u001b[0m\u001b[1;33m,\u001b[0m \u001b[1;34m'lxml'\u001b[0m\u001b[1;33m)\u001b[0m\u001b[1;33m\u001b[0m\u001b[0m\n\u001b[0m\u001b[0;32m      6\u001b[0m \u001b[0mprint\u001b[0m\u001b[1;33m(\u001b[0m\u001b[0msoup\u001b[0m\u001b[1;33m.\u001b[0m\u001b[0mprettify\u001b[0m\u001b[1;33m(\u001b[0m\u001b[1;33m)\u001b[0m\u001b[1;33m)\u001b[0m\u001b[1;33m\u001b[0m\u001b[0m\n",
      "\u001b[1;32mc:\\users\\yashd\\appdata\\local\\programs\\python\\python36-32\\lib\\site-packages\\bs4\\__init__.py\u001b[0m in \u001b[0;36m__init__\u001b[1;34m(self, markup, features, builder, parse_only, from_encoding, exclude_encodings, element_classes, **kwargs)\u001b[0m\n\u001b[0;32m    244\u001b[0m                     \u001b[1;34m\"Couldn't find a tree builder with the features you \"\u001b[0m\u001b[1;33m\u001b[0m\u001b[0m\n\u001b[0;32m    245\u001b[0m                     \u001b[1;34m\"requested: %s. Do you need to install a parser library?\"\u001b[0m\u001b[1;33m\u001b[0m\u001b[0m\n\u001b[1;32m--> 246\u001b[1;33m                     % \",\".join(features))\n\u001b[0m\u001b[0;32m    247\u001b[0m \u001b[1;33m\u001b[0m\u001b[0m\n\u001b[0;32m    248\u001b[0m         \u001b[1;31m# At this point either we have a TreeBuilder instance in\u001b[0m\u001b[1;33m\u001b[0m\u001b[1;33m\u001b[0m\u001b[0m\n",
      "\u001b[1;31mFeatureNotFound\u001b[0m: Couldn't find a tree builder with the features you requested: lxml. Do you need to install a parser library?"
     ]
    }
   ],
   "source": [
    "# use just beautifulsoup to open webpage\n",
    "url = 'https://na.op.gg/summoner/userName=FriedenInGeduld'\n",
    "response = requests.get(url)\n",
    "page = response.text\n",
    "soup = BeautifulSoup(page, 'lxml')\n",
    "print(soup.prettify())"
   ]
  },
  {
   "cell_type": "code",
   "execution_count": 38,
   "metadata": {},
   "outputs": [
    {
     "name": "stdout",
     "output_type": "stream",
     "text": [
      "$5.99\n",
      "$15.99\n",
      "$19.39\n",
      "$9.67\n",
      "$19.49\n",
      "$39.99\n",
      "$4.25\n",
      "$20.89\n",
      "$7.49\n",
      "$9.29\n",
      "$6.99\n",
      "$6.99\n",
      "\n",
      "\n"
     ]
    }
   ],
   "source": [
    "# use selenium to open webpage\n",
    "\n",
    "\n",
    "driver = webdriver.Chrome(executable_path=binary_path)\n",
    "driver.get(\"https://www.amazon.com/gp/css/order-history?ref_=nav_AccountFlyout_orders\")\n",
    "try:\n",
    "    #driver.manage().timeouts().implicitlyWait(5, TimeUnit.SECONDS);\n",
    "\n",
    "    # !!! CLEAR THESE BEFORE PUSHING !!!\n",
    "    email = driver.find_element_by_name(\"email\")\n",
    "    email.clear()\n",
    "    email.send_keys(\"\") # left out for safety\n",
    "    email.send_keys(Keys.RETURN)\n",
    "\n",
    "    pwd = driver.find_element_by_name(\"password\")\n",
    "    pwd.clear()\n",
    "    pwd.send_keys(\"\") # left out for safety\n",
    "    pwd.send_keys(Keys.RETURN)\n",
    "    \n",
    "    #first_order = driver.find_element_by_class_name('a-box-group a-spacing-base order')\n",
    "    orders_box = driver.find_element_by_id('ordersContainer')\n",
    "    orders = orders_box.find_elements_by_class_name('a-box-group')\n",
    "    #for i in orders:   \n",
    "    \n",
    "    #finding price\n",
    "    #for i in orders[0].find_elements_by_class_name('value'):\n",
    "    #    print(i.text)\n",
    "    \n",
    "    for i in orders_box.find_elements_by_class_name('a-color-price'):\n",
    "        print(i.text)\n",
    "    print('\\n')\n",
    "    # finding product name\n",
    "#     for i in range(len(orders_box.find_elements_by_class_name('a-link-normal'))):\n",
    "#         #print('i: ',i)\n",
    "#         #print(orders_box.find_elements_by_class_name('a-link-normal')[i].text)\n",
    "#         if((i+1)%5==0):\n",
    "#             print(i)\n",
    "#             print(orders_box.find_elements_by_class_name('a-link-normal')[i].text)\n",
    "    order_names = []\n",
    "    for i in orders_box.find_elements_by_class_name('a-link-normal'):\n",
    "        if((i.text != '') & (i.text != 'Order Details') & (i.text != 'Invoice') & (i.text != 'Archive order')):\n",
    "            #print(i.text)\n",
    "            order_names.append(i.text)\n",
    "    \n",
    "    time.sleep(10)\n",
    "finally:\n",
    "    driver.quit()\n",
    "#print(order_names)  # left out for safety\n",
    "driver.quit()"
   ]
  },
  {
   "cell_type": "code",
   "execution_count": 36,
   "metadata": {},
   "outputs": [
    {
     "data": {
      "text/plain": [
       "12"
      ]
     },
     "execution_count": 36,
     "metadata": {},
     "output_type": "execute_result"
    }
   ],
   "source": [
    "len(order_names)"
   ]
  },
  {
   "cell_type": "code",
   "execution_count": null,
   "metadata": {},
   "outputs": [],
   "source": []
  }
 ],
 "metadata": {
  "kernelspec": {
   "display_name": "Python 3",
   "language": "python",
   "name": "python3"
  },
  "language_info": {
   "codemirror_mode": {
    "name": "ipython",
    "version": 3
   },
   "file_extension": ".py",
   "mimetype": "text/x-python",
   "name": "python",
   "nbconvert_exporter": "python",
   "pygments_lexer": "ipython3",
   "version": "3.6.4"
  }
 },
 "nbformat": 4,
 "nbformat_minor": 4
}
