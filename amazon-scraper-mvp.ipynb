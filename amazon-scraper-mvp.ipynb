{
 "cells": [
  {
   "cell_type": "code",
   "execution_count": 1,
   "metadata": {},
   "outputs": [],
   "source": [
    "# required installs:\n",
    "# numpy, pandas, seaborn, selenium, chromedriver-py, requests, beautifulsoup4\n",
    "\n",
    "# all installs can be installed with pip \n",
    "#  pip install [package]\n",
    "\n",
    "# if chromedriver-py doesn't work, dl from here (https://sites.google.com/a/chromium.org/chromedriver/home)\n",
    "\n",
    "import numpy as np\n",
    "import pandas as pd\n",
    "# import seaborn as sns\n",
    "\n",
    "import selenium\n",
    "from selenium import webdriver\n",
    "from selenium.webdriver.common.keys import Keys\n",
    "from chromedriver_py import binary_path # this will get you the path variable\n",
    "\n",
    "import requests\n",
    "from bs4 import BeautifulSoup\n",
    "\n",
    "import time\n",
    "# import lxml\n",
    "# from lxml import etree"
   ]
  },
  {
   "cell_type": "code",
   "execution_count": null,
   "metadata": {},
   "outputs": [],
   "source": [
    "# use just beautifulsoup to open webpage\n",
    "# didn't work too well, not gonna use it\n",
    "url = 'https://www.amazon.com/gp/css/order-history?ref_=nav_AccountFlyout_orders'\n",
    "response = requests.get(url)\n",
    "page = response.text\n",
    "soup = BeautifulSoup(page, 'lxml')\n",
    "print(soup.prettify())"
   ]
  },
  {
   "cell_type": "code",
   "execution_count": null,
   "metadata": {},
   "outputs": [
    {
     "name": "stdout",
     "output_type": "stream",
     "text": [
      "['$5.99', '$15.99', '$19.39', '$9.67', '$19.49', '$39.99', '$4.25', '$20.89', '$7.49', '$9.29', '$6.99', '$6.99']\n"
     ]
    }
   ],
   "source": [
    "# use selenium to open webpage\n",
    "\n",
    "\n",
    "driver = webdriver.Chrome(executable_path=binary_path)\n",
    "driver.get(\"https://www.amazon.com/gp/css/order-history?ref_=nav_AccountFlyout_orders\")\n",
    "try:\n",
    "    #driver.manage().timeouts().implicitlyWait(5, TimeUnit.SECONDS);\n",
    "\n",
    "    # !!! CLEAR THESE BEFORE PUSHING !!!\n",
    "    email = driver.find_element_by_name(\"email\")\n",
    "    email.clear()\n",
    "    email.send_keys(\"\") # my info left out for safety\n",
    "    email.send_keys(Keys.RETURN)\n",
    "\n",
    "    pwd = driver.find_element_by_name(\"password\")\n",
    "    pwd.clear()\n",
    "    pwd.send_keys(\"\") # my info left out for safety\n",
    "    pwd.send_keys(Keys.RETURN)\n",
    "    \n",
    "    #num_pages = driver.find_element_by_class_name('')\n",
    "    #first_order = driver.find_element_by_class_name('a-box-group a-spacing-base order')\n",
    "    orders_box = driver.find_element_by_id('ordersContainer')\n",
    "    \n",
    "    # first try (leaving this here just cuz)\n",
    "#     orders = orders_box.find_elements_by_class_name('a-box-group')\n",
    "#     #for i in orders:   \n",
    "    \n",
    "#     #finding prices\n",
    "#     prices = []\n",
    "#     for i in orders_box.find_elements_by_class_name('a-color-price'):\n",
    "#         #print(i.text)\n",
    "#         prices.append(i.text)\n",
    "#     print('\\n')\n",
    "    \n",
    "#     # finding product names\n",
    "#     order_names = []\n",
    "#     for i in orders_box.find_elements_by_class_name('a-link-normal'):\n",
    "#         if((i.text != '') & (i.text != 'Order Details') & (i.text != 'Invoice') & (i.text != 'Archive order')):\n",
    "#             #print(i.text)\n",
    "#             order_names.append(i.text)\n",
    "    \n",
    "    \n",
    "    \n",
    "    \n",
    "    \n",
    "    # second try\n",
    "    orders = orders_box.find_elements_by_class_name('shipment')\n",
    "    prices = []\n",
    "    order_names = []\n",
    "    order_qtys = []\n",
    "    for i in orders:\n",
    "        shipment_prices = i.find_elements_by_class_name('a-color-price')\n",
    "        shipment_order_names = i.find_elements_by_class_name('a-link-normal')\n",
    "        #while '' in shipment_order_names:\n",
    "        shipment_order_names = [j for j in shipment_order_names if j.text != ''] \n",
    "        #print(shipment_order_names)\n",
    "        shipment_order_qtys = i.find_elements_by_class_name('item-view-qty')\n",
    "        for j in range(len(shipment_prices)):\n",
    "            prices.append(shipment_prices[j].text)\n",
    "            order_names.append(shipment_order_names[j].text)\n",
    "            if(j < len(shipment_order_qtys)):\n",
    "                order_qtys.append(shipment_order_qtys[j].text)\n",
    "            else:\n",
    "                order_qtys.append('1')\n",
    "    \n",
    "    \n",
    "    time.sleep(10)\n",
    "    \n",
    "finally:\n",
    "    driver.quit()\n",
    "print(prices)\n",
    "#print(order_names)  # my info left out for safety\n",
    "#print(order_qtys) \n",
    "driver.quit()"
   ]
  },
  {
   "cell_type": "code",
   "execution_count": 46,
   "metadata": {},
   "outputs": [
    {
     "data": {
      "text/plain": [
       "12"
      ]
     },
     "execution_count": 46,
     "metadata": {},
     "output_type": "execute_result"
    }
   ],
   "source": [
    "len(prices)"
   ]
  },
  {
   "cell_type": "code",
   "execution_count": null,
   "metadata": {},
   "outputs": [],
   "source": [
    "info_d = {'Item': order_names, 'Price': prices, 'Quantity':order_qtys}\n",
    "df = pd.DataFrame(info_d)\n",
    "df\n",
    "# my output left out for safety"
   ]
  },
  {
   "cell_type": "code",
   "execution_count": 61,
   "metadata": {},
   "outputs": [],
   "source": [
    "df.to_csv('orders.csv')\n",
    "# my csv not pushed for safety"
   ]
  },
  {
   "cell_type": "code",
   "execution_count": null,
   "metadata": {},
   "outputs": [],
   "source": []
  }
 ],
 "metadata": {
  "kernelspec": {
   "display_name": "Python 3",
   "language": "python",
   "name": "python3"
  },
  "language_info": {
   "codemirror_mode": {
    "name": "ipython",
    "version": 3
   },
   "file_extension": ".py",
   "mimetype": "text/x-python",
   "name": "python",
   "nbconvert_exporter": "python",
   "pygments_lexer": "ipython3",
   "version": "3.6.4"
  }
 },
 "nbformat": 4,
 "nbformat_minor": 4
}
